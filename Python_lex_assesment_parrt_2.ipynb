{
 "cells": [
  {
   "cell_type": "code",
   "execution_count": 2,
   "metadata": {},
   "outputs": [
    {
     "ename": "SyntaxError",
     "evalue": "invalid syntax (<ipython-input-2-a3a7a41a21c8>, line 5)",
     "output_type": "error",
     "traceback": [
      "\u001b[0;36m  File \u001b[0;32m\"<ipython-input-2-a3a7a41a21c8>\"\u001b[0;36m, line \u001b[0;32m5\u001b[0m\n\u001b[0;31m    if((list1[var1]/list1[var1+1])>1)\u001b[0m\n\u001b[0m                                     ^\u001b[0m\n\u001b[0;31mSyntaxError\u001b[0m\u001b[0;31m:\u001b[0m invalid syntax\n"
     ]
    }
   ],
   "source": [
    "list1=[10,20,0,40,0]\n",
    "def test():\n",
    "    try:\n",
    "        var1=3\n",
    "        if((list1[var1]/list1[var1+1])>1)\n",
    "        value= var1+1\n",
    "    except ZeroDivisionError:\n",
    "        print(\"1\")\n",
    "    except IndexError:\n",
    "        print(\"2\")\n",
    "    finally:\n",
    "        print(\"4\")\n",
    "    print(\"5\")\n",
    "    \n",
    "test()\n"
   ]
  },
  {
   "cell_type": "code",
   "execution_count": 15,
   "metadata": {},
   "outputs": [
    {
     "data": {
      "text/plain": [
       "25"
      ]
     },
     "execution_count": 15,
     "metadata": {},
     "output_type": "execute_result"
    }
   ],
   "source": [
    "def fun(var1):\n",
    "    if(var1)<1:\n",
    "        return 0\n",
    "    elif var1%2==0:\n",
    "        return fun(var1-1)\n",
    "    else:\n",
    "        return (var1+fun(var1-2))\n",
    "\n",
    "fun(10)"
   ]
  },
  {
   "cell_type": "code",
   "execution_count": 20,
   "metadata": {},
   "outputs": [
    {
     "data": {
      "text/plain": [
       "5"
      ]
     },
     "execution_count": 20,
     "metadata": {},
     "output_type": "execute_result"
    }
   ],
   "source": [
    "def calculate(var1,var2):\n",
    "    while(var1!=var2):\n",
    "        if(var1>var2):\n",
    "            return calculate(var1-var2,var2)\n",
    "        else:\n",
    "            return calculate(var1, var2-var1)\n",
    "    return var1\n",
    "calculate(45,20)"
   ]
  },
  {
   "cell_type": "code",
   "execution_count": 21,
   "metadata": {},
   "outputs": [
    {
     "name": "stdout",
     "output_type": "stream",
     "text": [
      "T\n",
      "IF\n",
      "OF\n"
     ]
    }
   ],
   "source": [
    "def func(var1,var2):\n",
    "    try:\n",
    "        var3=(int)(var2)\n",
    "        var2=var3+\"A\"\n",
    "        print(var2)\n",
    "    except TypeError:\n",
    "        print(\"T\")\n",
    "    finally:\n",
    "        print(\"IF\")\n",
    "\n",
    "try:\n",
    "    func(\"R\",13)\n",
    "except ValueError:\n",
    "    print(\"V\")\n",
    "finally:\n",
    "    print(\"OF\")"
   ]
  },
  {
   "cell_type": "code",
   "execution_count": 22,
   "metadata": {},
   "outputs": [
    {
     "name": "stdout",
     "output_type": "stream",
     "text": [
      "([5, 2], [3, 4]) [(1, 2), (6, 7)]\n"
     ]
    }
   ],
   "source": [
    "try:\n",
    "    tupl1=([1,2],[3,4])\n",
    "    list1 = [(1,2),(3,4)]\n",
    "    list2 = tupl1[0]\n",
    "    list2[0] = 5\n",
    "    list1[1] = (6,7)\n",
    "    print(tupl1,list1)\n",
    "except TypeError:\n",
    "    print(\"ERR\")"
   ]
  },
  {
   "cell_type": "code",
   "execution_count": 26,
   "metadata": {},
   "outputs": [
    {
     "name": "stdout",
     "output_type": "stream",
     "text": [
      "ZD FI CA\n"
     ]
    }
   ],
   "source": [
    "def func1():\n",
    "    try:\n",
    "        dict1={\"IN\":\"India\",\"US\":\"United States\"}\n",
    "        del dict1[\"IN\"]\n",
    "        value = 100 // (len(dict1)-1)\n",
    "        print(value)\n",
    "    except ZeroDivisionError:\n",
    "        print(\"ZD\",end =\" \")\n",
    "        value = int(dict1[0])\n",
    "    except KeyError:\n",
    "        print(\"KE\", end = \" \")\n",
    "    finally:\n",
    "        print(\"FI\", end=\" \")\n",
    "\n",
    "try: \n",
    "    func1()\n",
    "    print(\"TR\")\n",
    "except:\n",
    "    print(\"CA\")"
   ]
  },
  {
   "cell_type": "code",
   "execution_count": 27,
   "metadata": {},
   "outputs": [
    {
     "name": "stdout",
     "output_type": "stream",
     "text": [
      "20 50 10 50 "
     ]
    }
   ],
   "source": [
    "var1, var2 = 10,20\n",
    "def func1(var1):\n",
    "    global var2\n",
    "    var1, var2 = 20,50\n",
    "    print(var1, end=\" \")\n",
    "    print(var2, end=\" \")\n",
    "func1(30)\n",
    "print(var1, end=\" \")\n",
    "print(var2, end=\" \")"
   ]
  },
  {
   "cell_type": "code",
   "execution_count": 28,
   "metadata": {},
   "outputs": [
    {
     "name": "stdout",
     "output_type": "stream",
     "text": [
      "100 None 10 20 1 10 "
     ]
    }
   ],
   "source": [
    "def func1(var1=1, var2=2):\n",
    "    print(var1, end=\" \")\n",
    "    print(var2, end=\" \")\n",
    "func1(100,None)\n",
    "func1(var2=20,var1=10)\n",
    "func1(var2=10)"
   ]
  },
  {
   "cell_type": "code",
   "execution_count": 30,
   "metadata": {},
   "outputs": [
    {
     "name": "stdout",
     "output_type": "stream",
     "text": [
      "4\n"
     ]
    }
   ],
   "source": [
    "def func1():\n",
    "    try:\n",
    "        1/10\n",
    "        return 1\n",
    "    except ZeroDivisionError:\n",
    "            \"ABC\"+1\n",
    "            return 2\n",
    "    finally:\n",
    "        int(\"A\")\n",
    "        return 3\n",
    "\n",
    "try:\n",
    "    result=func1()\n",
    "    print(result)\n",
    "except:\n",
    "    print(4)"
   ]
  },
  {
   "cell_type": "code",
   "execution_count": null,
   "metadata": {},
   "outputs": [],
   "source": []
  },
  {
   "cell_type": "code",
   "execution_count": null,
   "metadata": {},
   "outputs": [],
   "source": []
  },
  {
   "cell_type": "code",
   "execution_count": null,
   "metadata": {},
   "outputs": [],
   "source": []
  },
  {
   "cell_type": "code",
   "execution_count": null,
   "metadata": {},
   "outputs": [],
   "source": []
  },
  {
   "cell_type": "code",
   "execution_count": null,
   "metadata": {},
   "outputs": [],
   "source": []
  },
  {
   "cell_type": "code",
   "execution_count": null,
   "metadata": {},
   "outputs": [],
   "source": []
  },
  {
   "cell_type": "code",
   "execution_count": null,
   "metadata": {},
   "outputs": [],
   "source": []
  },
  {
   "cell_type": "code",
   "execution_count": null,
   "metadata": {},
   "outputs": [],
   "source": []
  },
  {
   "cell_type": "code",
   "execution_count": null,
   "metadata": {},
   "outputs": [],
   "source": []
  }
 ],
 "metadata": {
  "kernelspec": {
   "display_name": "Python 3",
   "language": "python",
   "name": "python3"
  },
  "language_info": {
   "codemirror_mode": {
    "name": "ipython",
    "version": 3
   },
   "file_extension": ".py",
   "mimetype": "text/x-python",
   "name": "python",
   "nbconvert_exporter": "python",
   "pygments_lexer": "ipython3",
   "version": "3.7.4"
  }
 },
 "nbformat": 4,
 "nbformat_minor": 2
}
