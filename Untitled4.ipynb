{
 "cells": [
  {
   "cell_type": "code",
   "execution_count": 5,
   "metadata": {},
   "outputs": [
    {
     "name": "stdout",
     "output_type": "stream",
     "text": [
      "False\n"
     ]
    }
   ],
   "source": [
    "var1=7\n",
    "var2=6\n",
    "var3=3\n",
    "var4=(var1*var3)>(var1*var2*var3) or (var1*var3)<=(var2*var3)\n",
    "print (var4)\n"
   ]
  },
  {
   "cell_type": "code",
   "execution_count": 14,
   "metadata": {},
   "outputs": [
    {
     "name": "stdout",
     "output_type": "stream",
     "text": [
      "['FA2', 95]\n"
     ]
    }
   ],
   "source": [
    "marks=[\"FAI\",80,\"FA2\",85,\"FA3\",95]\n",
    "report=marks[-4:]\n",
    "report = report[:1]+marks[5:]\n",
    "print(report)"
   ]
  },
  {
   "cell_type": "code",
   "execution_count": 19,
   "metadata": {},
   "outputs": [
    {
     "name": "stdout",
     "output_type": "stream",
     "text": [
      "{'Co-Captain': 'Jack', 'Captain': 'Jack'}\n"
     ]
    }
   ],
   "source": [
    "ship_crew={\"Co-Captain\":\"Jack\"}\n",
    "ship_crew['Captain']=\"Jack\"\n",
    "ship_crew['Co-Captain']=ship_crew['Captain']\n",
    "ship_crew['Captain']=ship_crew['Co-Captain']\n",
    "print(ship_crew)"
   ]
  },
  {
   "cell_type": "code",
   "execution_count": 26,
   "metadata": {},
   "outputs": [
    {
     "name": "stdout",
     "output_type": "stream",
     "text": [
      "{'Co-Captain': 'Jack', 'Captain': 'Jack'}\n"
     ]
    }
   ],
   "source": [
    "ship_crew={\"Co-Captain\":\"Jack\"}\n",
    "ship_crew['Captain']=ship_crew['Co-Captain']\n",
    "print(ship_crew)"
   ]
  },
  {
   "cell_type": "code",
   "execution_count": 28,
   "metadata": {},
   "outputs": [
    {
     "name": "stdout",
     "output_type": "stream",
     "text": [
      "1\n",
      "4\n",
      "9\n",
      "16\n",
      "25\n"
     ]
    }
   ],
   "source": [
    "for var1 in range(1,6):\n",
    "    for var2 in range(1,6):\n",
    "        if(var1%var2!=0):\n",
    "            pass\n",
    "        elif(var2<var1):\n",
    "            continue\n",
    "        else:\n",
    "            print(var1*var2)\n",
    "            "
   ]
  },
  {
   "cell_type": "code",
   "execution_count": 30,
   "metadata": {},
   "outputs": [
    {
     "name": "stdout",
     "output_type": "stream",
     "text": [
      "1\n"
     ]
    }
   ],
   "source": [
    "num1= 11//10\n",
    "num2=11%10\n",
    "num3=20\n",
    "num4=40\n",
    "num5=5\n",
    "print(num2)"
   ]
  },
  {
   "cell_type": "code",
   "execution_count": 31,
   "metadata": {},
   "outputs": [
    {
     "name": "stdout",
     "output_type": "stream",
     "text": [
      "0 10\n",
      "1 9\n",
      "2 8\n",
      "3 7\n",
      "4 6\n"
     ]
    }
   ],
   "source": [
    "var1=0\n",
    "var2=10\n",
    "while var1<=10 and var2>=1:\n",
    "    print(var1,var2)\n",
    "    var2=var2-1\n",
    "    var1=var1+1\n",
    "    if (var1==var2):\n",
    "        break"
   ]
  },
  {
   "cell_type": "code",
   "execution_count": 32,
   "metadata": {},
   "outputs": [
    {
     "name": "stdout",
     "output_type": "stream",
     "text": [
      "HELLO\n"
     ]
    }
   ],
   "source": [
    "temp=\"Hello? how are you?\"\n",
    "if(temp.isdigit()):\n",
    "    temp+=\"fine\"\n",
    "else:\n",
    "    for var1 in range(len(temp)):\n",
    "        if(temp[var1]=='?'):\n",
    "            final_val=temp[:var1]\n",
    "            break\n",
    "if(final_val.endswith(\"u\")):\n",
    "    final_val.replace(\"you\",\"u\")\n",
    "else:\n",
    "    final_val=final_val.upper()\n",
    "print(final_val)"
   ]
  },
  {
   "cell_type": "code",
   "execution_count": 33,
   "metadata": {},
   "outputs": [
    {
     "name": "stdout",
     "output_type": "stream",
     "text": [
      "Count : 2\n",
      "mack AND mill went up THE hill\n"
     ]
    }
   ],
   "source": [
    "code=\"jack and jill went up the hill\"\n",
    "for temp in code.split():\n",
    "    if(temp.endswith(\"ill\")):\n",
    "        print(\"Count :\", code.count(\"ill\"))\n",
    "        break\n",
    "code = code.replace(\"j\",'m')\n",
    "for temp in code.split():\n",
    "    if(len(temp)%2!=0):\n",
    "        temp_string=(str)(temp)\n",
    "        code=code.replace(temp_string,temp_string.upper())\n",
    "print(code)"
   ]
  },
  {
   "cell_type": "markdown",
   "metadata": {},
   "source": [
    "v1=5\n",
    "v2=5\n",
    "v3=1\n",
    "v4=1\n",
    "v5=0\n",
    "v6=(var1+var2)>(var3/var4) and var5<=(var1-var3*var2)"
   ]
  },
  {
   "cell_type": "code",
   "execution_count": 36,
   "metadata": {},
   "outputs": [
    {
     "name": "stdout",
     "output_type": "stream",
     "text": [
      "True\n",
      "True\n"
     ]
    }
   ],
   "source": [
    "var1=5 \n",
    "var2=5 \n",
    "var3=1 \n",
    "var4=1\n",
    "var5=0 \n",
    "v6=(var1+var2)>(var3/var4) and var5<=(var1-var3*var2)\n",
    "v7= not ((var4>=var2) or (var1==var3))\n",
    "print(v6)\n",
    "print(v7)"
   ]
  },
  {
   "cell_type": "code",
   "execution_count": 37,
   "metadata": {},
   "outputs": [
    {
     "name": "stdout",
     "output_type": "stream",
     "text": [
      "A 2\n",
      "B 4\n",
      "C 2\n",
      "D 5\n"
     ]
    },
    {
     "ename": "IndexError",
     "evalue": "tuple index out of range",
     "output_type": "error",
     "traceback": [
      "\u001b[0;31m---------------------------------------------------------------------------\u001b[0m",
      "\u001b[0;31mIndexError\u001b[0m                                Traceback (most recent call last)",
      "\u001b[0;32m<ipython-input-37-a66abe6d23cd>\u001b[0m in \u001b[0;36m<module>\u001b[0;34m\u001b[0m\n\u001b[1;32m      6\u001b[0m     \u001b[0mlist2\u001b[0m\u001b[0;34m.\u001b[0m\u001b[0mappend\u001b[0m\u001b[0;34m(\u001b[0m\u001b[0mlist1\u001b[0m\u001b[0;34m[\u001b[0m\u001b[0mvar1\u001b[0m\u001b[0;34m-\u001b[0m\u001b[0;36m5\u001b[0m\u001b[0;34m]\u001b[0m\u001b[0;34m+\u001b[0m\u001b[0mlist1\u001b[0m\u001b[0;34m[\u001b[0m\u001b[0mvar1\u001b[0m\u001b[0;34m]\u001b[0m\u001b[0;34m)\u001b[0m\u001b[0;34m\u001b[0m\u001b[0;34m\u001b[0m\u001b[0m\n\u001b[1;32m      7\u001b[0m \u001b[0;32mfor\u001b[0m \u001b[0mvar1\u001b[0m \u001b[0;32min\u001b[0m \u001b[0mrange\u001b[0m\u001b[0;34m(\u001b[0m\u001b[0;36m0\u001b[0m\u001b[0;34m,\u001b[0m\u001b[0mlen\u001b[0m\u001b[0;34m(\u001b[0m\u001b[0mlist2\u001b[0m\u001b[0;34m)\u001b[0m\u001b[0;34m)\u001b[0m\u001b[0;34m:\u001b[0m\u001b[0;34m\u001b[0m\u001b[0;34m\u001b[0m\u001b[0m\n\u001b[0;32m----> 8\u001b[0;31m     \u001b[0mprint\u001b[0m\u001b[0;34m(\u001b[0m\u001b[0mtuple1\u001b[0m\u001b[0;34m[\u001b[0m\u001b[0mvar1\u001b[0m\u001b[0;34m]\u001b[0m\u001b[0;34m,\u001b[0m\u001b[0mlist2\u001b[0m\u001b[0;34m[\u001b[0m\u001b[0mvar1\u001b[0m\u001b[0;34m]\u001b[0m\u001b[0;34m)\u001b[0m\u001b[0;34m\u001b[0m\u001b[0;34m\u001b[0m\u001b[0m\n\u001b[0m",
      "\u001b[0;31mIndexError\u001b[0m: tuple index out of range"
     ]
    }
   ],
   "source": [
    "list1=[1,2,1,3,3,1,2,1,2,1]\n",
    "tuple1=(\"A\",\"B\",\"C\",\"D\")\n",
    "tuple1+(\"E\",)\n",
    "list2=[]\n",
    "for var1 in range(5,len(list1)):\n",
    "    list2.append(list1[var1-5]+list1[var1])\n",
    "for var1 in range(0,len(list2)):\n",
    "    print(tuple1[var1],list2[var1])"
   ]
  },
  {
   "cell_type": "code",
   "execution_count": 38,
   "metadata": {},
   "outputs": [
    {
     "name": "stdout",
     "output_type": "stream",
     "text": [
      "2 None\n"
     ]
    }
   ],
   "source": [
    "def func(sample,res,key,val):\n",
    "    if(key in sample):\n",
    "        res=True\n",
    "        sample.update({key:val})\n",
    "    res=False\n",
    "    \n",
    "res=None\n",
    "sample={\"XS\":1,\"X\":0,\"XL\":3,\"XXL\":4}\n",
    "func(sample,res,\"X\",2)\n",
    "print(sample[\"X\"],res)"
   ]
  },
  {
   "cell_type": "code",
   "execution_count": 40,
   "metadata": {},
   "outputs": [
    {
     "name": "stdout",
     "output_type": "stream",
     "text": [
      "All  that  glitters  is  not  gold  ['3', '4', '8', '2', '3', '4']\n"
     ]
    }
   ],
   "source": [
    "my_str=\"All3 that4 glitters8 is2 not3 gold4\"\n",
    "my_list=[]\n",
    "\n",
    "for char in my_str:\n",
    "    if(char.isdigit()):\n",
    "        my_list.append((char))\n",
    "        my_str=my_str.replace(char,\" \")\n",
    "print(my_str,my_list)"
   ]
  },
  {
   "cell_type": "code",
   "execution_count": null,
   "metadata": {},
   "outputs": [],
   "source": []
  }
 ],
 "metadata": {
  "kernelspec": {
   "display_name": "Python 3",
   "language": "python",
   "name": "python3"
  },
  "language_info": {
   "codemirror_mode": {
    "name": "ipython",
    "version": 3
   },
   "file_extension": ".py",
   "mimetype": "text/x-python",
   "name": "python",
   "nbconvert_exporter": "python",
   "pygments_lexer": "ipython3",
   "version": "3.7.4"
  }
 },
 "nbformat": 4,
 "nbformat_minor": 2
}
