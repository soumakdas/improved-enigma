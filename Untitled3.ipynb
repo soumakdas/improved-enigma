{
 "cells": [
  {
   "cell_type": "code",
   "execution_count": 10,
   "metadata": {},
   "outputs": [
    {
     "name": "stdout",
     "output_type": "stream",
     "text": [
      "Please enter the number whose multiplication you want ? : 7\n",
      "Please enter the number upto which multiplication you want ? : 12\n",
      "7 x 1 = 7\n",
      "7 x 2 = 14\n",
      "7 x 3 = 21\n",
      "7 x 4 = 28\n",
      "7 x 5 = 35\n",
      "7 x 6 = 42\n",
      "7 x 7 = 49\n",
      "7 x 8 = 56\n",
      "7 x 9 = 63\n",
      "7 x 10 = 70\n",
      "7 x 11 = 77\n",
      "7 x 12 = 84\n"
     ]
    }
   ],
   "source": [
    "def multi(n,m):\n",
    "    '''to print the multiplication of the entered number'''\n",
    "    x = 0\n",
    "    for i in range(1,(m+1)):\n",
    "        x = i * n\n",
    "        print(n, 'x', i , '=', x )\n",
    "        continue\n",
    "\n",
    "num = int(input('Please enter the number whose multiplication you want ? : '))\n",
    "mul = int(input('Please enter the number upto which multiplication you want ? : '))\n",
    "res = multi(num,mul)"
   ]
  },
  {
   "cell_type": "code",
   "execution_count": 15,
   "metadata": {},
   "outputs": [
    {
     "name": "stdout",
     "output_type": "stream",
     "text": [
      "Please enter the number to find prime or not ? : 10\n",
      "2\n",
      "3\n",
      "4\n",
      "5\n",
      "6\n",
      "7\n",
      "8\n",
      "9\n",
      "10\n",
      "11\n"
     ]
    }
   ],
   "source": [
    "def prime(n):\n",
    "    '''to check if a number is prime or not !'''\n",
    "    x = 1\n",
    "    for i in range(2,n):\n",
    "        if n%i == 0:\n",
    "            x=0\n",
    "        else:\n",
    "            x=1\n",
    "    return x\n",
    "\n",
    "\n",
    "num = int(input('Please enter the number to find prime or not ? : '))\n",
    "i = 2\n",
    "counter = 1\n",
    "while True:\n",
    "    if prime(i):\n",
    "        print(i)\n",
    "        counter = counter + 1\n",
    "    i = i + 1\n",
    "    if counter>num:\n",
    "        break\n",
    "    "
   ]
  },
  {
   "cell_type": "code",
   "execution_count": null,
   "metadata": {},
   "outputs": [],
   "source": []
  }
 ],
 "metadata": {
  "kernelspec": {
   "display_name": "Python 3",
   "language": "python",
   "name": "python3"
  },
  "language_info": {
   "codemirror_mode": {
    "name": "ipython",
    "version": 3
   },
   "file_extension": ".py",
   "mimetype": "text/x-python",
   "name": "python",
   "nbconvert_exporter": "python",
   "pygments_lexer": "ipython3",
   "version": "3.7.3"
  }
 },
 "nbformat": 4,
 "nbformat_minor": 2
}
