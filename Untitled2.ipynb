{
 "cells": [
  {
   "cell_type": "code",
   "execution_count": 4,
   "metadata": {},
   "outputs": [
    {
     "name": "stdout",
     "output_type": "stream",
     "text": [
      "['a', 'b', 'c']\n",
      "['a', 'b', 'c', ['e', 'f', 'g']]\n",
      "['a', 'b', 'c', ['e', 'f', 'g'], 'e', 'f', 'g']\n"
     ]
    }
   ],
   "source": [
    "lst = ['a','b','c']\n",
    "print(lst)\n",
    "lst1 = ['e','f','g']\n",
    "lst.append(lst1)\n",
    "print(lst)\n",
    "lst.extend(lst1)\n",
    "print(lst)\n",
    "\n",
    "lst.pop"
   ]
  },
  {
   "cell_type": "code",
   "execution_count": 5,
   "metadata": {},
   "outputs": [
    {
     "name": "stdout",
     "output_type": "stream",
     "text": [
      "{'a': 0, 'b': 0, 'c': 0}\n"
     ]
    }
   ],
   "source": [
    "my_dict = {}.fromkeys(['a','b','c'],0)\n",
    "print(my_dict)"
   ]
  },
  {
   "cell_type": "code",
   "execution_count": 6,
   "metadata": {},
   "outputs": [
    {
     "name": "stdout",
     "output_type": "stream",
     "text": [
      "['Soumak', 'Das']\n"
     ]
    }
   ],
   "source": [
    "s1 = 'Soumak Das'\n",
    "s2 = s1.split()\n",
    "print(s2)\n"
   ]
  },
  {
   "cell_type": "code",
   "execution_count": 7,
   "metadata": {},
   "outputs": [
    {
     "name": "stdout",
     "output_type": "stream",
     "text": [
      "[1, 2, 3, 4]\n"
     ]
    }
   ],
   "source": [
    "list1 = [1,2,3,4]\n",
    "print (list1)"
   ]
  },
  {
   "cell_type": "code",
   "execution_count": 10,
   "metadata": {},
   "outputs": [],
   "source": [
    "def print_sum(list2):\n",
    "    ''' this function will return sum of all the values in a list'''\n",
    "    sum=0;\n",
    "    for a in list2:\n",
    "        sum += a\n",
    "    return sum\n",
    "\n"
   ]
  },
  {
   "cell_type": "code",
   "execution_count": 12,
   "metadata": {},
   "outputs": [
    {
     "name": "stdout",
     "output_type": "stream",
     "text": [
      "10\n",
      " this function will return sum of all the values in a list\n"
     ]
    }
   ],
   "source": [
    "s = print_sum(list1)\n",
    "print(s)\n",
    "print(print_sum.__doc__)\n"
   ]
  },
  {
   "cell_type": "code",
   "execution_count": 16,
   "metadata": {},
   "outputs": [
    {
     "name": "stdout",
     "output_type": "stream",
     "text": [
      "120\n",
      "function to get product of two numbers\n",
      "    doc string included\n"
     ]
    }
   ],
   "source": [
    "from functools import reduce #importing reduce function as it is not inbuilt here\n",
    "\n",
    "def multiply(x,y):\n",
    "    '''function to get product of two numbers\n",
    "    doc string included'''\n",
    "    return x * y\n",
    "\n",
    "list1 = [1,2,3,4,5] #defining a list\n",
    "\n",
    "product = reduce(multiply, list1)\n",
    "print(product)\n",
    "\n",
    "print(multiply.__doc__)\n",
    "\n",
    "\n",
    "\n",
    "\n",
    "\n",
    "\n"
   ]
  },
  {
   "cell_type": "code",
   "execution_count": 23,
   "metadata": {},
   "outputs": [
    {
     "name": "stdout",
     "output_type": "stream",
     "text": [
      "('Soumak', 'Das', 'test')\n",
      "('Soumak', 'Das', 'test')\n",
      "('Soumak', 'Das', 'test')\n"
     ]
    }
   ],
   "source": [
    "def try_arg(*argv):\n",
    "    for i in argv:\n",
    "        print(argv)\n",
    "        \n",
    "\n",
    "args = try_arg('Soumak','Das','test')\n"
   ]
  },
  {
   "cell_type": "code",
   "execution_count": 26,
   "metadata": {},
   "outputs": [
    {
     "name": "stdout",
     "output_type": "stream",
     "text": [
      "first == Geeks\n",
      "mid == for\n",
      "last == Geeks\n"
     ]
    }
   ],
   "source": [
    "def myFun(**kwargs):  \n",
    "    for key, value in kwargs.items(): \n",
    "        print (\"{0} == {1}\" .format(key, value)) # can also be written as print (\"%s == %s\" %(key, value)) \n",
    "  \n",
    "# Driver code \n",
    "myFun(first ='Geeks', mid ='for', last='Geeks')"
   ]
  },
  {
   "cell_type": "code",
   "execution_count": 28,
   "metadata": {},
   "outputs": [
    {
     "ename": "SyntaxError",
     "evalue": "invalid syntax (<ipython-input-28-2d889e2ca1ea>, line 11)",
     "output_type": "error",
     "traceback": [
      "\u001b[0;36m  File \u001b[0;32m\"<ipython-input-28-2d889e2ca1ea>\"\u001b[0;36m, line \u001b[0;32m11\u001b[0m\n\u001b[0;31m    print fact1(x)\u001b[0m\n\u001b[0m              ^\u001b[0m\n\u001b[0;31mSyntaxError\u001b[0m\u001b[0;31m:\u001b[0m invalid syntax\n"
     ]
    }
   ],
   "source": [
    "def factorial(x,y):\n",
    "    return x * y \n",
    "list1 = list(range(1,5))\n",
    "print (reduce(factorial,list1))\n",
    "\n",
    "\n",
    "def fact1(num):\n",
    "    return 1 if num ==1 else (num * fact1(num - 1))\n",
    "\n",
    "x = int(input(\"enter a number\"))\n",
    "print fact1(x)"
   ]
  },
  {
   "cell_type": "code",
   "execution_count": 31,
   "metadata": {},
   "outputs": [
    {
     "name": "stdout",
     "output_type": "stream",
     "text": [
      "enter a number23\n",
      "25852016738884976640000\n"
     ]
    }
   ],
   "source": [
    "def fact1(num):\n",
    "    return 1 if num ==1 else (num * fact1(num - 1))\n",
    "\n",
    "x = int(input(\"enter a number\"))\n",
    "print (fact1(x))"
   ]
  }
 ],
 "metadata": {
  "kernelspec": {
   "display_name": "Python 3",
   "language": "python",
   "name": "python3"
  },
  "language_info": {
   "codemirror_mode": {
    "name": "ipython",
    "version": 3
   },
   "file_extension": ".py",
   "mimetype": "text/x-python",
   "name": "python",
   "nbconvert_exporter": "python",
   "pygments_lexer": "ipython3",
   "version": "3.7.3"
  }
 },
 "nbformat": 4,
 "nbformat_minor": 2
}
